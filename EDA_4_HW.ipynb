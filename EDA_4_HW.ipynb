{
 "cells": [
  {
   "cell_type": "markdown",
   "id": "119a4847-326d-4b7d-a4a3-1993e53c3101",
   "metadata": {
    "tags": []
   },
   "source": [
    "# <center> Data Research of HR-Agency\n"
   ]
  },
  {
   "cell_type": "markdown",
   "id": "890cf18f-256d-40ae-8e7d-4ef12b96370e",
   "metadata": {
    "tags": []
   },
   "source": [
    "### HR agency is studying labor market trends in IT. The company wants to conduct a study based on salary data in the field of Data Science for the years 2020-2022 and draw some conclusions."
   ]
  },
  {
   "cell_type": "markdown",
   "id": "d3449a45-5ffe-4cd8-8da2-8f1b8a23d97a",
   "metadata": {},
   "source": [
    "Explore the data and draw conclusions based on the results. Support your reasoning and conclusions with visualizations and use statistical testing to determine if the findings are statistically significant.\n",
    "\n",
    "During your analysis, you should:\n",
    "\n",
    "- Determine which factors influence the salary of a Data Scientist.\n",
    "- Answer key questions from the HR agency:\n",
    "    - Is there an annual growth in salaries for Data Scientists?\n",
    "    - How do the salaries of Data Scientists compare to Data Engineers in 2022?\n",
    "    - How do the salaries of Data Scientists vary in companies of different sizes?\n",
    "    - Is there a correlation between the presence of Data Scientist and Data Engineer positions and the size of the company?\n",
    "\n",
    "If you find interesting patterns in the data, make sure to highlight them in your analysis.\n",
    "\n",
    "Demonstrate the use of different tests to verify the statistical significance of the conclusions made:\n",
    "\n",
    "- Tests for quantitative variables:\n",
    "    - For a single sample.\n",
    "    - For two samples.\n",
    "    - For multiple samples.\n",
    "- Test for categorical variables."
   ]
  },
  {
   "cell_type": "markdown",
   "id": "70eb9f4c-4fb9-4845-9473-5466207b5938",
   "metadata": {
    "tags": []
   },
   "source": [
    "## Import libraries and load data set"
   ]
  },
  {
   "cell_type": "code",
   "execution_count": 127,
   "id": "07d0e6e5-191b-4c2c-a1e3-ebad97c296b0",
   "metadata": {},
   "outputs": [],
   "source": [
    "#import libraries\n",
    "import pandas as pd\n",
    "import numpy as np\n",
    "\n",
    "#import libraries for statistical tests\n",
    "from scipy import stats\n",
    "from statsmodels import stats as sms\n",
    "\n",
    "#import visualization libraries\n",
    "import seaborn as sns\n",
    "import matplotlib.pyplot as plt\n",
    "\n",
    "# visual setup for charts\n",
    "sns.set_theme(\"notebook\") \n",
    "sns.set_palette(\"Set2\") "
   ]
  },
  {
   "cell_type": "code",
   "execution_count": 128,
   "id": "85aae4c7-8ce7-4956-9c23-677ad13c2e45",
   "metadata": {},
   "outputs": [
    {
     "data": {
      "text/html": [
       "<div>\n",
       "<style scoped>\n",
       "    .dataframe tbody tr th:only-of-type {\n",
       "        vertical-align: middle;\n",
       "    }\n",
       "\n",
       "    .dataframe tbody tr th {\n",
       "        vertical-align: top;\n",
       "    }\n",
       "\n",
       "    .dataframe thead th {\n",
       "        text-align: right;\n",
       "    }\n",
       "</style>\n",
       "<table border=\"1\" class=\"dataframe\">\n",
       "  <thead>\n",
       "    <tr style=\"text-align: right;\">\n",
       "      <th></th>\n",
       "      <th>Unnamed: 0</th>\n",
       "      <th>work_year</th>\n",
       "      <th>experience_level</th>\n",
       "      <th>employment_type</th>\n",
       "      <th>job_title</th>\n",
       "      <th>salary</th>\n",
       "      <th>salary_currency</th>\n",
       "      <th>salary_in_usd</th>\n",
       "      <th>employee_residence</th>\n",
       "      <th>remote_ratio</th>\n",
       "      <th>company_location</th>\n",
       "      <th>company_size</th>\n",
       "    </tr>\n",
       "  </thead>\n",
       "  <tbody>\n",
       "    <tr>\n",
       "      <th>0</th>\n",
       "      <td>0</td>\n",
       "      <td>2020</td>\n",
       "      <td>MI</td>\n",
       "      <td>FT</td>\n",
       "      <td>Data Scientist</td>\n",
       "      <td>70000</td>\n",
       "      <td>EUR</td>\n",
       "      <td>79833</td>\n",
       "      <td>DE</td>\n",
       "      <td>0</td>\n",
       "      <td>DE</td>\n",
       "      <td>L</td>\n",
       "    </tr>\n",
       "    <tr>\n",
       "      <th>1</th>\n",
       "      <td>1</td>\n",
       "      <td>2020</td>\n",
       "      <td>SE</td>\n",
       "      <td>FT</td>\n",
       "      <td>Machine Learning Scientist</td>\n",
       "      <td>260000</td>\n",
       "      <td>USD</td>\n",
       "      <td>260000</td>\n",
       "      <td>JP</td>\n",
       "      <td>0</td>\n",
       "      <td>JP</td>\n",
       "      <td>S</td>\n",
       "    </tr>\n",
       "    <tr>\n",
       "      <th>2</th>\n",
       "      <td>2</td>\n",
       "      <td>2020</td>\n",
       "      <td>SE</td>\n",
       "      <td>FT</td>\n",
       "      <td>Big Data Engineer</td>\n",
       "      <td>85000</td>\n",
       "      <td>GBP</td>\n",
       "      <td>109024</td>\n",
       "      <td>GB</td>\n",
       "      <td>50</td>\n",
       "      <td>GB</td>\n",
       "      <td>M</td>\n",
       "    </tr>\n",
       "    <tr>\n",
       "      <th>3</th>\n",
       "      <td>3</td>\n",
       "      <td>2020</td>\n",
       "      <td>MI</td>\n",
       "      <td>FT</td>\n",
       "      <td>Product Data Analyst</td>\n",
       "      <td>20000</td>\n",
       "      <td>USD</td>\n",
       "      <td>20000</td>\n",
       "      <td>HN</td>\n",
       "      <td>0</td>\n",
       "      <td>HN</td>\n",
       "      <td>S</td>\n",
       "    </tr>\n",
       "    <tr>\n",
       "      <th>4</th>\n",
       "      <td>4</td>\n",
       "      <td>2020</td>\n",
       "      <td>SE</td>\n",
       "      <td>FT</td>\n",
       "      <td>Machine Learning Engineer</td>\n",
       "      <td>150000</td>\n",
       "      <td>USD</td>\n",
       "      <td>150000</td>\n",
       "      <td>US</td>\n",
       "      <td>50</td>\n",
       "      <td>US</td>\n",
       "      <td>L</td>\n",
       "    </tr>\n",
       "  </tbody>\n",
       "</table>\n",
       "</div>"
      ],
      "text/plain": [
       "   Unnamed: 0  work_year experience_level employment_type   \n",
       "0           0       2020               MI              FT  \\\n",
       "1           1       2020               SE              FT   \n",
       "2           2       2020               SE              FT   \n",
       "3           3       2020               MI              FT   \n",
       "4           4       2020               SE              FT   \n",
       "\n",
       "                    job_title  salary salary_currency  salary_in_usd   \n",
       "0              Data Scientist   70000             EUR          79833  \\\n",
       "1  Machine Learning Scientist  260000             USD         260000   \n",
       "2           Big Data Engineer   85000             GBP         109024   \n",
       "3        Product Data Analyst   20000             USD          20000   \n",
       "4   Machine Learning Engineer  150000             USD         150000   \n",
       "\n",
       "  employee_residence  remote_ratio company_location company_size  \n",
       "0                 DE             0               DE            L  \n",
       "1                 JP             0               JP            S  \n",
       "2                 GB            50               GB            M  \n",
       "3                 HN             0               HN            S  \n",
       "4                 US            50               US            L  "
      ]
     },
     "execution_count": 128,
     "metadata": {},
     "output_type": "execute_result"
    }
   ],
   "source": [
    "#loading data set\n",
    "data = pd.read_csv('ds_salaries.csv')\n",
    "data.head()"
   ]
  },
  {
   "cell_type": "code",
   "execution_count": 129,
   "id": "4bfc8ed6-2b1b-4ae6-b362-055c70a29070",
   "metadata": {},
   "outputs": [],
   "source": [
    "#drop 'Unnamed':0 column\n",
    "data = data.drop(['Unnamed: 0'], axis=1)"
   ]
  },
  {
   "cell_type": "code",
   "execution_count": 130,
   "id": "f95883c7-f63b-499f-8897-e21df26dc6bc",
   "metadata": {},
   "outputs": [
    {
     "name": "stdout",
     "output_type": "stream",
     "text": [
      "The significance level set to: 0.05\n"
     ]
    }
   ],
   "source": [
    "#setting the significance level \n",
    "alpha = 0.05\n",
    "print(f\"The significance level set to: {alpha}\")"
   ]
  },
  {
   "cell_type": "markdown",
   "id": "23838a3d-08fa-495e-a606-13392d29d754",
   "metadata": {
    "tags": []
   },
   "source": [
    "## Descriptive data analysis"
   ]
  },
  {
   "cell_type": "code",
   "execution_count": 131,
   "id": "f4690acd-9bca-4b86-940e-d79583b93c13",
   "metadata": {},
   "outputs": [
    {
     "name": "stdout",
     "output_type": "stream",
     "text": [
      "<class 'pandas.core.frame.DataFrame'>\n",
      "RangeIndex: 607 entries, 0 to 606\n",
      "Data columns (total 11 columns):\n",
      " #   Column              Non-Null Count  Dtype \n",
      "---  ------              --------------  ----- \n",
      " 0   work_year           607 non-null    int64 \n",
      " 1   experience_level    607 non-null    object\n",
      " 2   employment_type     607 non-null    object\n",
      " 3   job_title           607 non-null    object\n",
      " 4   salary              607 non-null    int64 \n",
      " 5   salary_currency     607 non-null    object\n",
      " 6   salary_in_usd       607 non-null    int64 \n",
      " 7   employee_residence  607 non-null    object\n",
      " 8   remote_ratio        607 non-null    int64 \n",
      " 9   company_location    607 non-null    object\n",
      " 10  company_size        607 non-null    object\n",
      "dtypes: int64(4), object(7)\n",
      "memory usage: 52.3+ KB\n",
      "Data set has 607 entries (no missing entries).\n"
     ]
    }
   ],
   "source": [
    "data.info()\n",
    "print('Data set has 607 entries (no missing entries).')"
   ]
  },
  {
   "cell_type": "code",
   "execution_count": 132,
   "id": "2592ec6e-e721-4fd3-9135-30f7bf725ea6",
   "metadata": {},
   "outputs": [
    {
     "name": "stdout",
     "output_type": "stream",
     "text": [
      "The number of duplicates in data set is: 42\n"
     ]
    }
   ],
   "source": [
    "#check if the data set has duplicates\n",
    "num_of_duplicates = data[data.duplicated()].shape[0]\n",
    "print(f'The number of duplicates in data set is: {num_of_duplicates}')"
   ]
  },
  {
   "cell_type": "markdown",
   "id": "4fe84870-8d49-4613-97ba-3d8a8d945bbd",
   "metadata": {
    "tags": []
   },
   "source": [
    "## Visual Data Analysis"
   ]
  },
  {
   "cell_type": "markdown",
   "id": "d5270be4-6967-4e1d-a731-6f870b23d82e",
   "metadata": {
    "tags": []
   },
   "source": [
    "### Salary Distribution among Data Scientist by Year in USD"
   ]
  },
  {
   "cell_type": "code",
   "execution_count": 133,
   "id": "9273e9c0-d472-4033-97a6-25bb6187b18f",
   "metadata": {},
   "outputs": [
    {
     "data": {
      "image/png": "[encoded data removed]",
      "text/plain": [
       "<Figure size 1500x500 with 2 Axes>"
      ]
     },
     "metadata": {},
     "output_type": "display_data"
    }
   ],
   "source": [
    "fig, axes = plt.subplots(1, 2, figsize=(15, 5))\n",
    "\n",
    "#hisogram with Salary distribution\n",
    "sns.histplot(x='salary_in_usd', data=data[(data['job_title']=='Data Scientist')], ax=axes[0], hue='work_year', element='step', stat='density')\n",
    "axes[0].set(xlabel='Salary', ylabel='Frequency')\n",
    "axes[0].set_title('Salary Distribution by Year in USD')\n",
    "\n",
    "\n",
    "#boxplot for each year with salary distribution\n",
    "sns.boxplot(x='salary_in_usd', y='work_year', orient='h', data=data[(data['job_title']=='Data Scientist')], ax=axes[1], medianprops={\"color\": \"red\", \"linestyle\": '--'})\n",
    "axes[1].set(xlabel='Salary', ylabel='Year')\n",
    "axes[1].set_title('Salary disribution by year in USD')\n",
    "\n",
    "plt.show()"
   ]
  },
  {
   "cell_type": "markdown",
   "id": "43e959d3-2d5b-4504-8a98-530580280811",
   "metadata": {},
   "source": [
    "We can visually observe that each year median salary for the Data Scientist are increasing"
   ]
  },
  {
   "cell_type": "code",
   "execution_count": 134,
   "id": "3fa402c8-ffbb-4026-81ab-6e2911cb2252",
   "metadata": {},
   "outputs": [
    {
     "data": {
      "text/html": [
       "<div>\n",
       "<style scoped>\n",
       "    .dataframe tbody tr th:only-of-type {\n",
       "        vertical-align: middle;\n",
       "    }\n",
       "\n",
       "    .dataframe tbody tr th {\n",
       "        vertical-align: top;\n",
       "    }\n",
       "\n",
       "    .dataframe thead th {\n",
       "        text-align: right;\n",
       "    }\n",
       "</style>\n",
       "<table border=\"1\" class=\"dataframe\">\n",
       "  <thead>\n",
       "    <tr style=\"text-align: right;\">\n",
       "      <th></th>\n",
       "      <th>count</th>\n",
       "      <th>mean</th>\n",
       "      <th>std</th>\n",
       "      <th>min</th>\n",
       "      <th>25%</th>\n",
       "      <th>50%</th>\n",
       "      <th>75%</th>\n",
       "      <th>max</th>\n",
       "    </tr>\n",
       "    <tr>\n",
       "      <th>work_year</th>\n",
       "      <th></th>\n",
       "      <th></th>\n",
       "      <th></th>\n",
       "      <th></th>\n",
       "      <th></th>\n",
       "      <th></th>\n",
       "      <th></th>\n",
       "      <th></th>\n",
       "    </tr>\n",
       "  </thead>\n",
       "  <tbody>\n",
       "    <tr>\n",
       "      <th>2020</th>\n",
       "      <td>21.0</td>\n",
       "      <td>85970.523810</td>\n",
       "      <td>81436.648711</td>\n",
       "      <td>21669.0</td>\n",
       "      <td>42197.0</td>\n",
       "      <td>62726.0</td>\n",
       "      <td>105000.0</td>\n",
       "      <td>412000.0</td>\n",
       "    </tr>\n",
       "    <tr>\n",
       "      <th>2021</th>\n",
       "      <td>45.0</td>\n",
       "      <td>70671.733333</td>\n",
       "      <td>45422.967568</td>\n",
       "      <td>2859.0</td>\n",
       "      <td>33808.0</td>\n",
       "      <td>73000.0</td>\n",
       "      <td>100000.0</td>\n",
       "      <td>165000.0</td>\n",
       "    </tr>\n",
       "    <tr>\n",
       "      <th>2022</th>\n",
       "      <td>77.0</td>\n",
       "      <td>136172.090909</td>\n",
       "      <td>54563.084740</td>\n",
       "      <td>18442.0</td>\n",
       "      <td>100000.0</td>\n",
       "      <td>140000.0</td>\n",
       "      <td>176000.0</td>\n",
       "      <td>260000.0</td>\n",
       "    </tr>\n",
       "  </tbody>\n",
       "</table>\n",
       "</div>"
      ],
      "text/plain": [
       "           count           mean           std      min       25%       50%   \n",
       "work_year                                                                    \n",
       "2020        21.0   85970.523810  81436.648711  21669.0   42197.0   62726.0  \\\n",
       "2021        45.0   70671.733333  45422.967568   2859.0   33808.0   73000.0   \n",
       "2022        77.0  136172.090909  54563.084740  18442.0  100000.0  140000.0   \n",
       "\n",
       "                75%       max  \n",
       "work_year                      \n",
       "2020       105000.0  412000.0  \n",
       "2021       100000.0  165000.0  \n",
       "2022       176000.0  260000.0  "
      ]
     },
     "execution_count": 134,
     "metadata": {},
     "output_type": "execute_result"
    }
   ],
   "source": [
    "#create aggregated table for salary\n",
    "data_agg = data[(data['job_title']=='Data Scientist')].groupby('work_year')['salary_in_usd'].describe()\n",
    "data_agg"
   ]
  },
  {
   "cell_type": "markdown",
   "id": "f733e7f0-c7ca-4b57-a85e-792e82cfbf4b",
   "metadata": {},
   "source": [
    "The aggregated table confirms our visual observation that the median salary is increasing each year for the Data Scientists.\n",
    "The mean salary in 2020 is higher then in 2021, thats due the fact that in 2020 max salary value is $412,000 compare to 2021 $165,000, and we have only 21 entries in 2020. Thats why the mean value in 2020 is higher "
   ]
  },
  {
   "cell_type": "markdown",
   "id": "796d3806-6a52-49dc-b5bd-8964fa2474a2",
   "metadata": {
    "tags": []
   },
   "source": [
    "### Comparison of salaries among Data Engineers and Data Scientist in 2022"
   ]
  },
  {
   "cell_type": "code",
   "execution_count": 135,
   "id": "b1852dc5-e9bb-4c3c-938a-fd1e64512f71",
   "metadata": {},
   "outputs": [
    {
     "data": {
      "image/png": "[encoded data removed]",
      "text/plain": [
       "<Figure size 1500x500 with 2 Axes>"
      ]
     },
     "metadata": {},
     "output_type": "display_data"
    }
   ],
   "source": [
    "#Create mask to only show data for Data Engineers and Data Scientists in 2022\n",
    "mask = ((data['job_title']=='Data Engineer') | (data['job_title']=='Data Scientist')) & (data['work_year']==2022)\n",
    "\n",
    "fig, axes = plt.subplots(1, 2, figsize=(15, 5))\n",
    "sns.histplot(x='salary_in_usd', data=data[mask], ax=axes[0], hue='job_title', element='step', stat='density' )\n",
    "axes[0].set(xlabel='Salary', ylabel='Frequency')\n",
    "axes[0].set_title('Salary distribution among Data Engineers and Data Scientist in 2022')\n",
    "\n",
    "sns.boxplot(x='salary_in_usd', y='job_title', data=data[mask], ax=axes[1], orient='h')\n",
    "axes[1].set(xlabel='Salary', ylabel='Job Type')\n",
    "axes[1].set_title('Salary distribution among Data Engineers and Data Scientist')\n",
    "             \n",
    "plt.show()"
   ]
  },
  {
   "cell_type": "markdown",
   "id": "421375c8-8f5c-4993-8418-acccd04b5a80",
   "metadata": {},
   "source": [
    "Visually we can observe that median salary of Data Scientist in 2022 is higher compare to Data Engineer"
   ]
  },
  {
   "cell_type": "code",
   "execution_count": 136,
   "id": "ef471fd5-d211-4e09-b6f5-5feb972156b9",
   "metadata": {},
   "outputs": [
    {
     "name": "stdout",
     "output_type": "stream",
     "text": [
      "Salary comparison among Data Scientist and Data Engineer in 2022\n"
     ]
    },
    {
     "data": {
      "text/html": [
       "<div>\n",
       "<style scoped>\n",
       "    .dataframe tbody tr th:only-of-type {\n",
       "        vertical-align: middle;\n",
       "    }\n",
       "\n",
       "    .dataframe tbody tr th {\n",
       "        vertical-align: top;\n",
       "    }\n",
       "\n",
       "    .dataframe thead th {\n",
       "        text-align: right;\n",
       "    }\n",
       "</style>\n",
       "<table border=\"1\" class=\"dataframe\">\n",
       "  <thead>\n",
       "    <tr style=\"text-align: right;\">\n",
       "      <th></th>\n",
       "      <th>count</th>\n",
       "      <th>mean</th>\n",
       "      <th>std</th>\n",
       "      <th>min</th>\n",
       "      <th>25%</th>\n",
       "      <th>50%</th>\n",
       "      <th>75%</th>\n",
       "      <th>max</th>\n",
       "    </tr>\n",
       "    <tr>\n",
       "      <th>job_title</th>\n",
       "      <th></th>\n",
       "      <th></th>\n",
       "      <th></th>\n",
       "      <th></th>\n",
       "      <th></th>\n",
       "      <th></th>\n",
       "      <th></th>\n",
       "      <th></th>\n",
       "    </tr>\n",
       "  </thead>\n",
       "  <tbody>\n",
       "    <tr>\n",
       "      <th>Data Engineer</th>\n",
       "      <td>89.0</td>\n",
       "      <td>126375.696629</td>\n",
       "      <td>55954.398677</td>\n",
       "      <td>25000.0</td>\n",
       "      <td>78526.0</td>\n",
       "      <td>120000.0</td>\n",
       "      <td>160000.0</td>\n",
       "      <td>324000.0</td>\n",
       "    </tr>\n",
       "    <tr>\n",
       "      <th>Data Scientist</th>\n",
       "      <td>77.0</td>\n",
       "      <td>136172.090909</td>\n",
       "      <td>54563.084740</td>\n",
       "      <td>18442.0</td>\n",
       "      <td>100000.0</td>\n",
       "      <td>140000.0</td>\n",
       "      <td>176000.0</td>\n",
       "      <td>260000.0</td>\n",
       "    </tr>\n",
       "  </tbody>\n",
       "</table>\n",
       "</div>"
      ],
      "text/plain": [
       "                count           mean           std      min       25%   \n",
       "job_title                                                               \n",
       "Data Engineer    89.0  126375.696629  55954.398677  25000.0   78526.0  \\\n",
       "Data Scientist   77.0  136172.090909  54563.084740  18442.0  100000.0   \n",
       "\n",
       "                     50%       75%       max  \n",
       "job_title                                     \n",
       "Data Engineer   120000.0  160000.0  324000.0  \n",
       "Data Scientist  140000.0  176000.0  260000.0  "
      ]
     },
     "execution_count": 136,
     "metadata": {},
     "output_type": "execute_result"
    }
   ],
   "source": [
    "data_agg = data[mask].groupby('job_title')['salary_in_usd'].describe()\n",
    "print('Salary comparison among Data Scientist and Data Engineer in 2022')\n",
    "data_agg"
   ]
  },
  {
   "cell_type": "markdown",
   "id": "0d551b8c-817e-4a4a-a096-38c7301355c8",
   "metadata": {},
   "source": [
    "The aggregated data is consistent with our visual observation that salary for Data Scientist is tend to be higher compare to Data Engineer in 2022"
   ]
  },
  {
   "cell_type": "markdown",
   "id": "14b88058-2300-466a-9463-fcfb42875d25",
   "metadata": {
    "tags": []
   },
   "source": [
    "### Data Scientist salaries across companies of different sizes"
   ]
  },
  {
   "cell_type": "code",
   "execution_count": 137,
   "id": "f8e8b777-62cc-41e6-85ff-6052cd021692",
   "metadata": {},
   "outputs": [
    {
     "data": {
      "text/plain": [
       "Text(0.5, 1.0, 'Data Scientist salaries across companies of different sizes')"
      ]
     },
     "execution_count": 137,
     "metadata": {},
     "output_type": "execute_result"
    },
    {
     "data": {
      "image/png": "[encoded data removed]",
      "text/plain": [
       "<Figure size 1500x500 with 2 Axes>"
      ]
     },
     "metadata": {},
     "output_type": "display_data"
    }
   ],
   "source": [
    "fig, axes = plt.subplots(1, 2, figsize=(15, 5))\n",
    "\n",
    "sns.histplot(x='salary_in_usd', data=data[(data['job_title']=='Data Scientist')], ax=axes[0], hue='company_size')\n",
    "axes[0].set(xlabel='Salary in USD', ylabel='Frequency')\n",
    "axes[0].set_title('Data Scientist salaries across companies of different sizes')\n",
    "\n",
    "sns.boxplot(x='salary_in_usd', y='company_size', data=data[(data['job_title']=='Data Scientist')])\n",
    "axes[1].set(xlabel='Salary in USD', ylabel='Company Size')\n",
    "axes[1].set_title('Data Scientist salaries across companies of different sizes')"
   ]
  },
  {
   "cell_type": "markdown",
   "id": "8ea78004-561a-480f-afb7-b554ecf2e936",
   "metadata": {},
   "source": [
    "Visual observation shows us that highest median salaries in the companies of Medium Size, following by Large Companies"
   ]
  },
  {
   "cell_type": "code",
   "execution_count": 138,
   "id": "d3962207-9353-498c-9b44-2ccb3aa954b1",
   "metadata": {},
   "outputs": [
    {
     "data": {
      "text/html": [
       "<div>\n",
       "<style scoped>\n",
       "    .dataframe tbody tr th:only-of-type {\n",
       "        vertical-align: middle;\n",
       "    }\n",
       "\n",
       "    .dataframe tbody tr th {\n",
       "        vertical-align: top;\n",
       "    }\n",
       "\n",
       "    .dataframe thead th {\n",
       "        text-align: right;\n",
       "    }\n",
       "</style>\n",
       "<table border=\"1\" class=\"dataframe\">\n",
       "  <thead>\n",
       "    <tr style=\"text-align: right;\">\n",
       "      <th></th>\n",
       "      <th>count</th>\n",
       "      <th>mean</th>\n",
       "      <th>std</th>\n",
       "      <th>min</th>\n",
       "      <th>25%</th>\n",
       "      <th>50%</th>\n",
       "      <th>75%</th>\n",
       "      <th>max</th>\n",
       "    </tr>\n",
       "    <tr>\n",
       "      <th>company_size</th>\n",
       "      <th></th>\n",
       "      <th></th>\n",
       "      <th></th>\n",
       "      <th></th>\n",
       "      <th></th>\n",
       "      <th></th>\n",
       "      <th></th>\n",
       "      <th></th>\n",
       "    </tr>\n",
       "  </thead>\n",
       "  <tbody>\n",
       "    <tr>\n",
       "      <th>L</th>\n",
       "      <td>45.0</td>\n",
       "      <td>103313.355556</td>\n",
       "      <td>71815.176484</td>\n",
       "      <td>13400.0</td>\n",
       "      <td>50000.0</td>\n",
       "      <td>90734.0</td>\n",
       "      <td>135000.0</td>\n",
       "      <td>412000.0</td>\n",
       "    </tr>\n",
       "    <tr>\n",
       "      <th>M</th>\n",
       "      <td>77.0</td>\n",
       "      <td>126380.753247</td>\n",
       "      <td>56389.528710</td>\n",
       "      <td>4000.0</td>\n",
       "      <td>90000.0</td>\n",
       "      <td>130000.0</td>\n",
       "      <td>165000.0</td>\n",
       "      <td>260000.0</td>\n",
       "    </tr>\n",
       "    <tr>\n",
       "      <th>S</th>\n",
       "      <td>21.0</td>\n",
       "      <td>51925.761905</td>\n",
       "      <td>33216.289638</td>\n",
       "      <td>2859.0</td>\n",
       "      <td>21669.0</td>\n",
       "      <td>49268.0</td>\n",
       "      <td>82500.0</td>\n",
       "      <td>105000.0</td>\n",
       "    </tr>\n",
       "  </tbody>\n",
       "</table>\n",
       "</div>"
      ],
      "text/plain": [
       "              count           mean           std      min      25%       50%   \n",
       "company_size                                                                   \n",
       "L              45.0  103313.355556  71815.176484  13400.0  50000.0   90734.0  \\\n",
       "M              77.0  126380.753247  56389.528710   4000.0  90000.0  130000.0   \n",
       "S              21.0   51925.761905  33216.289638   2859.0  21669.0   49268.0   \n",
       "\n",
       "                   75%       max  \n",
       "company_size                      \n",
       "L             135000.0  412000.0  \n",
       "M             165000.0  260000.0  \n",
       "S              82500.0  105000.0  "
      ]
     },
     "execution_count": 138,
     "metadata": {},
     "output_type": "execute_result"
    }
   ],
   "source": [
    "data_agg = data[(data['job_title']=='Data Scientist')].groupby('company_size')['salary_in_usd'].describe()\n",
    "data_agg"
   ]
  },
  {
   "cell_type": "markdown",
   "id": "b5bc622c-df65-4813-b3d5-c68c27c07fd8",
   "metadata": {},
   "source": [
    "The aggregated data above alligns with our visual observation and confirms that the highest median salary are observed in the companies of Medium Size"
   ]
  },
  {
   "cell_type": "markdown",
   "id": "15c058ba-9248-4f82-bfe6-55cd0d9e0fab",
   "metadata": {
    "tags": []
   },
   "source": [
    "### Relationship among Data Scientist and Data Engineer in companies of different sizes"
   ]
  },
  {
   "cell_type": "code",
   "execution_count": 139,
   "id": "2c9739ee-0cd5-4390-bfce-8ca7a2dfefa1",
   "metadata": {},
   "outputs": [
    {
     "data": {
      "image/png": "[encoded data removed]",
      "text/plain": [
       "<Figure size 1000x500 with 1 Axes>"
      ]
     },
     "metadata": {},
     "output_type": "display_data"
    }
   ],
   "source": [
    "#mask to reflect only information for Data Scientist and Data Engineer\n",
    "mask = (data['job_title']=='Data Scientist') | (data['job_title']=='Data Engineer')\n",
    "\n",
    "fig, axes = plt.subplots(1, 1, figsize=(10, 5))\n",
    "                         \n",
    "sns.countplot(data=data[mask], x='job_title', ax=axes, hue='company_size')\n",
    "axes.set(xlabel='Job Title', ylabel='Number of positions')\n",
    "axes.set_title('Number of Data Scientist and Data Engineers jobs across companies of different size')\n",
    "                         \n",
    "plt.show()"
   ]
  },
  {
   "cell_type": "code",
   "execution_count": 140,
   "id": "7ada9ee4-5452-4739-ae97-947fa0ab8f0a",
   "metadata": {},
   "outputs": [
    {
     "data": {
      "image/png": "[encoded data removed]",
      "text/plain": [
       "<Figure size 640x480 with 2 Axes>"
      ]
     },
     "metadata": {},
     "output_type": "display_data"
    }
   ],
   "source": [
    "mask = (data['job_title']=='Data Scientist') | (data['job_title']=='Data Engineer')\n",
    "cross_tab = pd.crosstab(index=data[mask]['job_title'], columns=data['company_size'])\n",
    "ax = sns.heatmap(data=cross_tab, annot=True, cmap='coolwarm')\n",
    "ax.set(xlabel='Company Size', ylabel='Job Title')\n",
    "ax.set_title('Table Contingency')\n",
    "plt.show()"
   ]
  },
  {
   "cell_type": "markdown",
   "id": "31d28384-f6f5-45af-8850-3ebad593019c",
   "metadata": {},
   "source": [
    "From visual observation we can conclude that Data Engineers are in bigger demand in Medium Size companies, while Data Scientist in more demand in Large and Small companies"
   ]
  },
  {
   "cell_type": "code",
   "execution_count": 141,
   "id": "f0c899b4-db33-42b0-89eb-a5a715af5456",
   "metadata": {},
   "outputs": [
    {
     "data": {
      "text/html": [
       "<div>\n",
       "<style scoped>\n",
       "    .dataframe tbody tr th:only-of-type {\n",
       "        vertical-align: middle;\n",
       "    }\n",
       "\n",
       "    .dataframe tbody tr th {\n",
       "        vertical-align: top;\n",
       "    }\n",
       "\n",
       "    .dataframe thead th {\n",
       "        text-align: right;\n",
       "    }\n",
       "</style>\n",
       "<table border=\"1\" class=\"dataframe\">\n",
       "  <thead>\n",
       "    <tr style=\"text-align: right;\">\n",
       "      <th>company_size</th>\n",
       "      <th>L</th>\n",
       "      <th>M</th>\n",
       "      <th>S</th>\n",
       "    </tr>\n",
       "    <tr>\n",
       "      <th>job_title</th>\n",
       "      <th></th>\n",
       "      <th></th>\n",
       "      <th></th>\n",
       "    </tr>\n",
       "  </thead>\n",
       "  <tbody>\n",
       "    <tr>\n",
       "      <th>Data Engineer</th>\n",
       "      <td>37</td>\n",
       "      <td>89</td>\n",
       "      <td>6</td>\n",
       "    </tr>\n",
       "    <tr>\n",
       "      <th>Data Scientist</th>\n",
       "      <td>45</td>\n",
       "      <td>77</td>\n",
       "      <td>21</td>\n",
       "    </tr>\n",
       "  </tbody>\n",
       "</table>\n",
       "</div>"
      ],
      "text/plain": [
       "company_size     L   M   S\n",
       "job_title                 \n",
       "Data Engineer   37  89   6\n",
       "Data Scientist  45  77  21"
      ]
     },
     "execution_count": 141,
     "metadata": {},
     "output_type": "execute_result"
    }
   ],
   "source": [
    "mask = (data['job_title']=='Data Scientist') | (data['job_title']=='Data Engineer')\n",
    "pd.crosstab(data[mask]['job_title'], data[mask]['company_size'])"
   ]
  },
  {
   "cell_type": "markdown",
   "id": "4efa81cc-92e2-47f6-af9f-718940bf9f22",
   "metadata": {
    "tags": []
   },
   "source": [
    "## Statistical data analysis"
   ]
  },
  {
   "cell_type": "code",
   "execution_count": 142,
   "id": "e137edb6-7c62-4996-ada4-6b312fa25035",
   "metadata": {},
   "outputs": [],
   "source": [
    "# Function to make a decision about normality\n",
    "def decision_normality(p):\n",
    "    print(f'p-value = {round(p, 3)}')\n",
    "    if p <= alpha:\n",
    "        print(f'The p-value is less than the set significance level {alpha}. The distribution is different from normal.')\n",
    "    else:\n",
    "        print(f'The p-value is greater than the set significance level {alpha}. The distribution is normal.')\n",
    "\n",
    "# Function to make a decision about rejecting the null hypothesis\n",
    "def decision_hypothesis(p):\n",
    "    print(f'p-value = {round(p, 3)}')\n",
    "    if p <= alpha:\n",
    "        print(f'The p-value is less than the set significance level {alpha}. Reject the null hypothesis in favor of the alternative.')\n",
    "    else:\n",
    "        print(f'The p-value is greater than the set significance level {alpha}. We have no reason to reject the null hypothesis.')\n",
    "\n"
   ]
  },
  {
   "cell_type": "markdown",
   "id": "b4530b89-dc73-468a-aa85-06fd19f8f056",
   "metadata": {
    "tags": []
   },
   "source": [
    "### Can we observe yearly salary increase among Data Scientist?\n",
    "\n",
    "**Lets formulate Null and Alternate hypothesis**\n",
    "\n",
    "*Null Hypothesis* ($H_0$): The salary among Data Scientist is the same in 2020, 2021 and 2022.\n",
    "\n",
    "$$ H_0 : μ_1 = μ_2 = u_3 $$\n",
    "\n",
    "*Alternate Hypothesis* ($H_1$): The salary among Data Scientist different in 2020, 2021 and 2022.\n",
    "\n",
    "$$ H_1 : μ_1 != μ_2 != u_3 $$"
   ]
  },
  {
   "cell_type": "markdown",
   "id": "f010996b-7668-451d-a469-4b316df8bb40",
   "metadata": {},
   "source": [
    "**Lets check the data for normality**\n",
    "\n",
    "We will perform Shapiro-Wilk test to check the data for normality. Lets remind hypothesis of Shapiro-Wilk test.\n",
    "\n",
    "**Null Hypothesis** ($H_0$): The distribution of data is normal. We can use parametric statistical tests.\n",
    "\n",
    "**Alternate Hypothesis** ($H_1$): The distribution of data is different from normal. We have to use non-parametric test.\n"
   ]
  },
  {
   "cell_type": "code",
   "execution_count": 143,
   "id": "80be331b-5cb3-4f15-9168-9c5bf03cdadd",
   "metadata": {},
   "outputs": [
    {
     "name": "stdout",
     "output_type": "stream",
     "text": [
      "Salary of Data Scientists in 2020\n",
      "p-value = 0.0\n",
      "The p-value is less than the set significance level 0.05. The distribution is different from normal.\n",
      "Salary of Data Scientists in 2021\n",
      "p-value = 0.125\n",
      "The p-value is greater than the set significance level 0.05. The distribution is normal.\n",
      "Salary of Data Scientists in 2022\n",
      "p-value = 0.327\n",
      "The p-value is greater than the set significance level 0.05. The distribution is normal.\n"
     ]
    }
   ],
   "source": [
    "#Salary of Data Scientist in different years\n",
    "salary_2020 = data[(data['job_title'] == 'Data Scientist') & (data['work_year'] == 2020)]\n",
    "salary_2021 = data[(data['job_title'] == 'Data Scientist') & (data['work_year'] == 2021)]\n",
    "salary_2022 = data[(data['job_title'] == 'Data Scientist') & (data['work_year'] == 2022)]\n",
    "\n",
    "#Perform Shapiro-Wilk test\n",
    "print('Salary of Data Scientists in 2020')\n",
    "result = stats.shapiro(salary_2020['salary_in_usd'])\n",
    "decision_normality(result[1])\n",
    "\n",
    "print('Salary of Data Scientists in 2021')\n",
    "result = stats.shapiro(salary_2021['salary_in_usd'])\n",
    "decision_normality(result[1])\n",
    "\n",
    "print('Salary of Data Scientists in 2022')\n",
    "result = stats.shapiro(salary_2022['salary_in_usd'])\n",
    "decision_normality(result[1])"
   ]
  },
  {
   "cell_type": "markdown",
   "id": "69b1482d-497a-4e31-9b49-40fb6aa6e7d5",
   "metadata": {},
   "source": [
    "**Lets choose the right statistical test**\n",
    "\n",
    "To choose the correct statistical test we will use algorithm of test selection. Lets answer to the following questions:\n",
    "\n",
    "* What is the type of the feature \"\"Salary in USD\"\"? - Quantitive.\n",
    "* How many groups are being compared? - Three.\n",
    "* Are the groups dependent? - No.\n",
    "* Is the feature normally distributed? - No.\n",
    "\n",
    "To check our hypothesis we would need to use Kruskal-Wallis statistical test.\n",
    "\n",
    "**Perform the test**"
   ]
  },
  {
   "cell_type": "code",
   "execution_count": 144,
   "id": "8e0eaa54-dea3-4b61-bfb9-b46ff0aaf670",
   "metadata": {},
   "outputs": [
    {
     "name": "stdout",
     "output_type": "stream",
     "text": [
      "p-value = 0.0\n",
      "The p-value is less than the set significance level 0.05. Reject the null hypothesis in favor of the alternative.\n"
     ]
    }
   ],
   "source": [
    "_, p = stats.kruskal(salary_2020['salary_in_usd'], salary_2021['salary_in_usd'], salary_2022['salary_in_usd'])\n",
    "decision_hypothesis(p)"
   ]
  },
  {
   "cell_type": "markdown",
   "id": "23674208-0330-461d-868e-02681c5d337f",
   "metadata": {},
   "source": [
    "**Conclusion**\n",
    "\n",
    "There is no basis to claim that salary among data scientist is the same in 2020, 2021 and 2022."
   ]
  },
  {
   "cell_type": "markdown",
   "id": "aafff463-4f91-4deb-8130-61dc45139172",
   "metadata": {
    "tags": []
   },
   "source": [
    "### How the salaries of Data Engineer compares to salaries of Data Scientist in 2022?\n",
    "\n",
    "In our visual analysis we concluded that the median salary of Data Scientist in 2022 is higher then Data Engineer.\n",
    "\n",
    "**Lets formulate Null and Alternate hypothesis**\n",
    "\n",
    "*Null Hypothesis* ($H_0$): The Data Scientist ($u_2$) salary is equal or less then Data Engineer ($u_1$) salary.\n",
    "$$ H_0 : u_1 >= u_2 $$\n",
    "\n",
    "*Alternate Hypothesis* ($H_1$): The Data Scientist ($u_2$) salary is greater then Data Engineer ($u_1$) salary.\n",
    "$$ H_1 : u_1 < u_2 $$\n"
   ]
  },
  {
   "cell_type": "markdown",
   "id": "09511263-a2f4-47b5-bbe8-a220386fbce9",
   "metadata": {},
   "source": [
    "**Lets check data for normality**\n",
    "We will perform Shapiro-Wilk test"
   ]
  },
  {
   "cell_type": "code",
   "execution_count": 145,
   "id": "79946771-10c8-4701-9df3-8db90a5b3646",
   "metadata": {},
   "outputs": [
    {
     "name": "stdout",
     "output_type": "stream",
     "text": [
      "Data Engineers\n",
      "p-value = 0.01\n",
      "The p-value is less than the set significance level 0.05. The distribution is different from normal.\n",
      "Data Scientist\n",
      "p-value = 0.327\n",
      "The p-value is greater than the set significance level 0.05. The distribution is normal.\n"
     ]
    }
   ],
   "source": [
    "#Salaries of DS and DE in 2022\n",
    "de_salary = data.loc[(data['job_title']=='Data Engineer') & (data['work_year']==2022), 'salary_in_usd']\n",
    "ds_salary = data.loc[(data['job_title']=='Data Scientist') & (data['work_year']==2022), 'salary_in_usd']\n",
    "\n",
    "#perform the shapiro test\n",
    "print('Data Engineers')\n",
    "result = stats.shapiro(de_salary)\n",
    "decision_normality(result[1])\n",
    "\n",
    "print('Data Scientist')\n",
    "result = stats.shapiro(ds_salary)\n",
    "decision_normality(result[1])"
   ]
  },
  {
   "cell_type": "markdown",
   "id": "ff33a274-c35d-44c7-b47c-41d67830dabf",
   "metadata": {},
   "source": [
    "**One of the group has different then normal distribution. We would need to use non-parametric tests**\n",
    "\n",
    "We will use algorithm to determine which statistical test to use. Lets answer the questions:\n",
    "\n",
    "* What is the type of feature 'Salary in USD'? - Quantitive.\n",
    "* How many groups are being compared? - Two\n",
    "* Are the groups dependent? - No\n",
    "* Is the feature normally distributed? - No\n",
    "\n",
    "To check our hypothesis we need to use Mann-Whitney U statistical test.\n",
    "\n",
    "**lets perform the test**"
   ]
  },
  {
   "cell_type": "code",
   "execution_count": 146,
   "id": "ea5af94e-4997-47a7-8d14-cedc50365470",
   "metadata": {},
   "outputs": [
    {
     "name": "stdout",
     "output_type": "stream",
     "text": [
      "p-value = 0.077\n",
      "The p-value is greater than the set significance level 0.05. We have no reason to reject the null hypothesis.\n"
     ]
    }
   ],
   "source": [
    "_, p = stats.mannwhitneyu(de_salary, ds_salary, alternative='less')\n",
    "decision_hypothesis(p)"
   ]
  },
  {
   "cell_type": "markdown",
   "id": "43835578-8b3d-4090-8430-e2a811fba14a",
   "metadata": {},
   "source": [
    "**Conclusion**\n",
    "\n",
    "We dont have basis to claim that Data Scientists salaries were higher then Data Engineers in 2022."
   ]
  },
  {
   "cell_type": "markdown",
   "id": "6c6312e7-fc5b-4b3a-ab36-e72f4c7bab05",
   "metadata": {
    "tags": []
   },
   "source": [
    "### How do the salaries of Data Scientists compare in companies of different sizes?\n",
    "\n",
    "In our visual observation we concluded that Data Scientist salaries tends to be higher in Medium Size companies, following Large companies.\n",
    "\n",
    "**Lets formulate Null and Alternative hypothesis**\n",
    "\n",
    "*Null hypothesis* ($H_0$) : The Data Scientist salaries is the same in Small, Medium and Large companies.\n",
    "$$ H_0 : u_1 = u_2 = u_3 $$\n",
    "\n",
    "*Alternative hypothesis* ($H_1$) : The Data Scientist salaries are not the same in Small, Medium and Large companies.\n",
    "$$ H_1 : u_1  != u_2  != u_3 $$"
   ]
  },
  {
   "cell_type": "markdown",
   "id": "7971103a-e66f-4ad1-b3be-76052803bf04",
   "metadata": {},
   "source": [
    "**Lets check data for normality**\n",
    "\n",
    "We will perform Shapiro-Wilk test"
   ]
  },
  {
   "cell_type": "code",
   "execution_count": 147,
   "id": "292bb13b-11a0-4949-b63b-c0d2fd8ab493",
   "metadata": {},
   "outputs": [
    {
     "name": "stdout",
     "output_type": "stream",
     "text": [
      "For Small companies\n",
      "p-value = 0.189\n",
      "The p-value is greater than the set significance level 0.05. The distribution is normal.\n",
      "For Medium companies\n",
      "p-value = 0.639\n",
      "The p-value is greater than the set significance level 0.05. The distribution is normal.\n",
      "For Large companies\n",
      "p-value = 0.0\n",
      "The p-value is less than the set significance level 0.05. The distribution is different from normal.\n"
     ]
    }
   ],
   "source": [
    "ds_small = data.loc[(data['company_size']=='S') & (data['job_title']=='Data Scientist'), 'salary_in_usd']\n",
    "ds_medium = data.loc[(data['company_size']=='M') & (data['job_title']=='Data Scientist'), 'salary_in_usd']\n",
    "ds_large = data.loc[(data['company_size']=='L') & (data['job_title']=='Data Scientist'), 'salary_in_usd']\n",
    "\n",
    "print('For Small companies')\n",
    "result = stats.shapiro(ds_small)\n",
    "decision_normality(result[1])\n",
    "\n",
    "print('For Medium companies')\n",
    "result = stats.shapiro(ds_medium)\n",
    "decision_normality(result[1])\n",
    "\n",
    "print('For Large companies')\n",
    "result = stats.shapiro(ds_large)\n",
    "decision_normality(result[1])"
   ]
  },
  {
   "cell_type": "markdown",
   "id": "41c88814-2130-42e9-ac31-f503a1dde8c2",
   "metadata": {},
   "source": [
    "**One of the group doesnt have normal distribution. We will use non-parametric statistical test**\n",
    "\n",
    "We will use algorithm to determine which statistical test to use. Lets answer the questions:\n",
    "\n",
    "* What is the type of feature 'Salary in USD'? - Quantitive.\n",
    "* How many groups are being compared? - Three\n",
    "* Are the groups dependent? - No\n",
    "* Is the feature normally distributed? - No\n",
    "\n",
    "To check our hypothesis we would need to use Kruskal-Wallis statistical test\n",
    "\n",
    "**lets perform the test**"
   ]
  },
  {
   "cell_type": "code",
   "execution_count": 148,
   "id": "c7744a81-5040-459b-821c-f63350be2324",
   "metadata": {},
   "outputs": [
    {
     "name": "stdout",
     "output_type": "stream",
     "text": [
      "p-value = 0.0\n",
      "The p-value is less than the set significance level 0.05. Reject the null hypothesis in favor of the alternative.\n"
     ]
    }
   ],
   "source": [
    "_, p = stats.kruskal(ds_small, ds_medium, ds_large)\n",
    "decision_hypothesis(p)"
   ]
  },
  {
   "cell_type": "markdown",
   "id": "2a9e71c1-b5bc-41eb-a29c-689d9af20556",
   "metadata": {},
   "source": [
    "**Conclusion**\n",
    "\n",
    "There is no basis to claim that the salary is the same among Data Scientist in the companies of differ sizes"
   ]
  },
  {
   "cell_type": "markdown",
   "id": "2ae25e76-cb36-4026-89df-a039d75dd80a",
   "metadata": {},
   "source": [
    "### Is there a relationship between the presence of Data Scientist and Data Engineer positions and the size of the company?"
   ]
  },
  {
   "cell_type": "markdown",
   "id": "82a07241-48c3-40d2-9535-268bc06d6077",
   "metadata": {},
   "source": [
    "From our visual observation we concluded that Data Engineers has more available positions compare to Data Scientist in Medium size companies, while Data Scientist has more available positions in Small and Large companies.\n",
    "\n",
    "*We want to test if there is a relationship between 'Job Title' and 'Company Size'*\n",
    "\n",
    "**Lets come up with Null and Alternative hypothesis**\n",
    "\n",
    "*Null hypothesis* ($H_0$) : There is no relationship between 'Job Title' and 'Company Size'. The feature 'Job Title' and 'Company Size' are independent\n",
    "\n",
    "*Alternate hypothesis* ($H_1$) : There is a relationship between 'Job Title' and 'Company Size'. The feature 'Job Title' and 'Company Size' are dependent"
   ]
  },
  {
   "cell_type": "markdown",
   "id": "65ac4487-0185-492e-9a25-48b2b44b5bdb",
   "metadata": {},
   "source": [
    "**Lets select the correct statistical test**\n",
    "\n",
    "We will use algorithm to determine which statistical test to use. Lets answer the questions.\n",
    "* What type is the feature 'Job Title'? — Categorical.\n",
    "* How many groups we compare? — Two.\n",
    "* Do we check the groups for indepence? — Yes.\n",
    "\n",
    "To check our hypothesis we should use ${\\chi}^2$ (Chi-square).\n",
    "\n",
    "**Perform the test**"
   ]
  },
  {
   "cell_type": "code",
   "execution_count": 149,
   "id": "bf57f66a-2152-4696-8b04-fd5b3657e690",
   "metadata": {},
   "outputs": [
    {
     "name": "stdout",
     "output_type": "stream",
     "text": [
      "p-value = 0.008\n",
      "The p-value is less than the set significance level 0.05. Reject the null hypothesis in favor of the alternative.\n"
     ]
    }
   ],
   "source": [
    "# create table for contigency\n",
    "mask = (data['job_title']=='Data Scientist') | (data['job_title']=='Data Engineer')\n",
    "cross_table = pd.crosstab(data[mask]['job_title'], data[mask]['company_size'])\n",
    "\n",
    "#performing the test\n",
    "_, p, _, _ = stats.chi2_contingency(cross_table)\n",
    "decision_hypothesis(p)"
   ]
  },
  {
   "cell_type": "markdown",
   "id": "2d48b90b-c913-45d4-b402-c5c95cd45dff",
   "metadata": {},
   "source": [
    "**Conclusion**\n",
    "\n",
    "There is a statistically significant relationship between Job Title (Data Scientist and Data Engineer) and Company Size"
   ]
  },
  {
   "cell_type": "markdown",
   "id": "eb82631b-a913-4513-945b-1af1ea6559cb",
   "metadata": {},
   "source": [
    "### Final results of the research\n",
    "\n",
    "* There is no basis to claim that salary among data scientist is the same in 2020, 2021 and 2022.\n",
    "\n",
    "* We dont have basis to claim that Data Scientists salaries were higher then Data Engineers in 2022.\n",
    "\n",
    "* There is no basis to claim that the salary is the same among Data Scientist in the companies of differ sizes\n",
    "\n",
    "* There is a statistically significant relationship between Job Title (Data Scientist and Data Engineer) and Company Size"
   ]
  }
 ],
 "metadata": {
  "kernelspec": {
   "display_name": "Python 3 (ipykernel)",
   "language": "python",
   "name": "python3"
  },
  "language_info": {
   "codemirror_mode": {
    "name": "ipython",
    "version": 3
   },
   "file_extension": ".py",
   "mimetype": "text/x-python",
   "name": "python",
   "nbconvert_exporter": "python",
   "pygments_lexer": "ipython3",
   "version": "3.8.6"
  }
 },
 "nbformat": 4,
 "nbformat_minor": 5
}
